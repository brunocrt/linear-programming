{
 "cells": [
  {
   "cell_type": "markdown",
   "metadata": {},
   "source": [
    "# Optimization basics: Linear Programming"
   ]
  },
  {
   "cell_type": "markdown",
   "metadata": {},
   "source": [
    "Dado um determinado problema de otimização segue abaixo dados:\n",
    "\n",
    "| Solução/Restrição  | Valor           |\n",
    "|-------------------:|:-----------------------|\n",
    "| Max Z              | Z = 3x1 + 5x2   |\n",
    "| Sujeito a          | 2x1 + 4x2 <= 10 |\n",
    "|                    | 6x1 + 1x2 <= 20 |\n",
    "|                    | 1x1 - 1x2 <= 30 |\n",
    "|                    | Onde X1 >= 0 e X2 >= 0 |\n",
    "\n",
    "Apos ajustes nas restrições, incluindo variáveis de folga, segue matrix com os novos dados:\n",
    "\n",
    "\n",
    "|      |      Z    |  x1    |   x2   | \txF1  |  xF2      | \txF3  |\tb    |\n",
    "|------|-----------|--------|--------|-------|-----------|-------|-------|\n",
    "| BASE |    1,00   | - 3,00 | -5,00  |  0,00 |\t0,00     | 0,00  | 0,00  |\n",
    "| y1   |  0,00     | 2,00   |  4,00  |  1,00 | \t0,00     | 0,00  | 10,00 |\n",
    "| y2   | \t0,00   | 6,00   | 1,0    |\t0,00 |    1,00   | 0,00  | 20,00 |\n",
    "| y3   | \t0,00   | 1,00   | -1,00  | 0,00  | \t0,00     | 1,0   | 30,00 |\n",
    "\n",
    "\n",
    "Encontrar qual a solução ótima para o problema\n",
    "\n"
   ]
  },
  {
   "cell_type": "code",
   "execution_count": 1,
   "metadata": {},
   "outputs": [
    {
     "name": "stdout",
     "output_type": "stream",
     "text": [
      "Solucao Otima: 14.0909090909 \n",
      "X: [ 3.18181818  0.90909091]\n"
     ]
    }
   ],
   "source": [
    "import numpy as np\n",
    "from scipy.optimize import linprog\n",
    "from numpy.linalg import solve\n",
    "\n",
    "A_ub = np.array([\n",
    "[2, 4],\n",
    "[6, 1],\n",
    "[1,-1]])\n",
    "\n",
    "b_ub = np.array([10, 20, 30])\n",
    "\n",
    "c = np.array([-3, -5])\n",
    "\n",
    "res = linprog(c, A_ub=A_ub, b_ub=b_ub,\n",
    "bounds=(0, None))\n",
    "print('Solucao Otima:', -res.fun, '\\nX:', res.x)"
   ]
  },
  {
   "cell_type": "code",
   "execution_count": 2,
   "metadata": {},
   "outputs": [
    {
     "name": "stdout",
     "output_type": "stream",
     "text": [
      "Solucao Otima: 14.0909090909 \n",
      "X: [  3.18181818   0.90909091   0.           0.          27.72727273]\n"
     ]
    }
   ],
   "source": [
    "A = np.array([\n",
    "[2, 4, 1, 0, 0],\n",
    "[6, 1, 0, 1, 0],\n",
    "[1, -1, 0, 0, 1]])\n",
    "\n",
    "b = np.array([10, 20, 30])\n",
    "c = np.array([-3, -5, 0, 0, 0])\n",
    "\n",
    "res = linprog(c, A_eq=A, b_eq=b, bounds=(0, None))\n",
    "print('Solucao Otima:', -res.fun, '\\nX:', res.x)"
   ]
  },
  {
   "cell_type": "code",
   "execution_count": null,
   "metadata": {},
   "outputs": [],
   "source": []
  }
 ],
 "metadata": {
  "kernelspec": {
   "display_name": "Python 3",
   "language": "python",
   "name": "python3"
  },
  "language_info": {
   "codemirror_mode": {
    "name": "ipython",
    "version": 3
   },
   "file_extension": ".py",
   "mimetype": "text/x-python",
   "name": "python",
   "nbconvert_exporter": "python",
   "pygments_lexer": "ipython3",
   "version": "3.6.3"
  }
 },
 "nbformat": 4,
 "nbformat_minor": 2
}
